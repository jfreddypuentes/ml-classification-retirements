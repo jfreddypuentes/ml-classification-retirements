{
 "cells": [
  {
   "cell_type": "code",
   "execution_count": 2,
   "metadata": {},
   "outputs": [],
   "source": [
    "import pandas as pd\n",
    "from imblearn.over_sampling import SMOTE\n",
    "from sklearn import preprocessing\n",
    "from sklearn.linear_model import LogisticRegression\n",
    "from sklearn.model_selection import train_test_split\n",
    "import warnings\n",
    "warnings.filterwarnings('ignore')"
   ]
  },
  {
   "cell_type": "markdown",
   "metadata": {},
   "source": [
    "## Cargamos datos"
   ]
  },
  {
   "cell_type": "code",
   "execution_count": 3,
   "metadata": {},
   "outputs": [],
   "source": [
    "data = pd.read_csv('data/retiros.csv', sep=';')"
   ]
  },
  {
   "cell_type": "code",
   "execution_count": 4,
   "metadata": {},
   "outputs": [
    {
     "data": {
      "text/html": [
       "<div>\n",
       "<style scoped>\n",
       "    .dataframe tbody tr th:only-of-type {\n",
       "        vertical-align: middle;\n",
       "    }\n",
       "\n",
       "    .dataframe tbody tr th {\n",
       "        vertical-align: top;\n",
       "    }\n",
       "\n",
       "    .dataframe thead th {\n",
       "        text-align: right;\n",
       "    }\n",
       "</style>\n",
       "<table border=\"1\" class=\"dataframe\">\n",
       "  <thead>\n",
       "    <tr style=\"text-align: right;\">\n",
       "      <th></th>\n",
       "      <th>CEDULA_ANONIMIZADA</th>\n",
       "      <th>FECHA</th>\n",
       "      <th>CODIGO_EMPRESA</th>\n",
       "      <th>ID_GENERO</th>\n",
       "      <th>ID_ESTADO_CIVIL</th>\n",
       "      <th>FECHA_NACIMIENTO</th>\n",
       "      <th>EDAD</th>\n",
       "      <th>CODIGO_LOCALIDAD</th>\n",
       "      <th>TIPO_NOMINA</th>\n",
       "      <th>FECHA_INGRESO</th>\n",
       "      <th>...</th>\n",
       "      <th>PORCENTAJE_RIESGO</th>\n",
       "      <th>SALARIO</th>\n",
       "      <th>COMPENSACION_VARIABLE</th>\n",
       "      <th>PORCENT_COMP_VARIABLE</th>\n",
       "      <th>TOTAL_SALARIO</th>\n",
       "      <th>UBICACION_ANONIMIZADA</th>\n",
       "      <th>FECHA FIN CONTRATO</th>\n",
       "      <th>CAUSA NOMBRE</th>\n",
       "      <th>TIPO DE RETIRO</th>\n",
       "      <th>RETIRO</th>\n",
       "    </tr>\n",
       "  </thead>\n",
       "  <tbody>\n",
       "    <tr>\n",
       "      <th>0</th>\n",
       "      <td>50</td>\n",
       "      <td>31/12/2017</td>\n",
       "      <td>21</td>\n",
       "      <td>F</td>\n",
       "      <td>SOLTERO</td>\n",
       "      <td>14/08/1998</td>\n",
       "      <td>22</td>\n",
       "      <td>999999</td>\n",
       "      <td>NO DEFINIDO</td>\n",
       "      <td>1/06/2017</td>\n",
       "      <td>...</td>\n",
       "      <td>999999.0</td>\n",
       "      <td>737717</td>\n",
       "      <td>0.0</td>\n",
       "      <td>0</td>\n",
       "      <td>737717.0</td>\n",
       "      <td>7</td>\n",
       "      <td>31/12/2040</td>\n",
       "      <td>NO APLICA</td>\n",
       "      <td>NO APLICA</td>\n",
       "      <td>0</td>\n",
       "    </tr>\n",
       "    <tr>\n",
       "      <th>1</th>\n",
       "      <td>158</td>\n",
       "      <td>31/12/2017</td>\n",
       "      <td>21</td>\n",
       "      <td>F</td>\n",
       "      <td>SOLTERO</td>\n",
       "      <td>21/08/1997</td>\n",
       "      <td>23</td>\n",
       "      <td>999999</td>\n",
       "      <td>NO DEFINIDO</td>\n",
       "      <td>16/06/2017</td>\n",
       "      <td>...</td>\n",
       "      <td>999999.0</td>\n",
       "      <td>737717</td>\n",
       "      <td>0.0</td>\n",
       "      <td>0</td>\n",
       "      <td>737717.0</td>\n",
       "      <td>7</td>\n",
       "      <td>31/12/2040</td>\n",
       "      <td>NO APLICA</td>\n",
       "      <td>NO APLICA</td>\n",
       "      <td>0</td>\n",
       "    </tr>\n",
       "    <tr>\n",
       "      <th>2</th>\n",
       "      <td>215</td>\n",
       "      <td>31/12/2017</td>\n",
       "      <td>21</td>\n",
       "      <td>M</td>\n",
       "      <td>SOLTERO</td>\n",
       "      <td>12/04/1999</td>\n",
       "      <td>21</td>\n",
       "      <td>999999</td>\n",
       "      <td>NO DEFINIDO</td>\n",
       "      <td>19/04/2017</td>\n",
       "      <td>...</td>\n",
       "      <td>999999.0</td>\n",
       "      <td>737717</td>\n",
       "      <td>0.0</td>\n",
       "      <td>0</td>\n",
       "      <td>737717.0</td>\n",
       "      <td>7</td>\n",
       "      <td>31/12/2040</td>\n",
       "      <td>NO APLICA</td>\n",
       "      <td>NO APLICA</td>\n",
       "      <td>0</td>\n",
       "    </tr>\n",
       "  </tbody>\n",
       "</table>\n",
       "<p>3 rows × 31 columns</p>\n",
       "</div>"
      ],
      "text/plain": [
       "   CEDULA_ANONIMIZADA       FECHA  CODIGO_EMPRESA ID_GENERO ID_ESTADO_CIVIL  \\\n",
       "0                  50  31/12/2017              21         F         SOLTERO   \n",
       "1                 158  31/12/2017              21         F         SOLTERO   \n",
       "2                 215  31/12/2017              21         M         SOLTERO   \n",
       "\n",
       "  FECHA_NACIMIENTO  EDAD  CODIGO_LOCALIDAD  TIPO_NOMINA FECHA_INGRESO  ...  \\\n",
       "0       14/08/1998    22            999999  NO DEFINIDO     1/06/2017  ...   \n",
       "1       21/08/1997    23            999999  NO DEFINIDO    16/06/2017  ...   \n",
       "2       12/04/1999    21            999999  NO DEFINIDO    19/04/2017  ...   \n",
       "\n",
       "  PORCENTAJE_RIESGO  SALARIO COMPENSACION_VARIABLE  PORCENT_COMP_VARIABLE  \\\n",
       "0          999999.0   737717                   0.0                      0   \n",
       "1          999999.0   737717                   0.0                      0   \n",
       "2          999999.0   737717                   0.0                      0   \n",
       "\n",
       "   TOTAL_SALARIO UBICACION_ANONIMIZADA  FECHA FIN CONTRATO CAUSA NOMBRE  \\\n",
       "0       737717.0                     7          31/12/2040    NO APLICA   \n",
       "1       737717.0                     7          31/12/2040    NO APLICA   \n",
       "2       737717.0                     7          31/12/2040    NO APLICA   \n",
       "\n",
       "  TIPO DE RETIRO  RETIRO  \n",
       "0      NO APLICA       0  \n",
       "1      NO APLICA       0  \n",
       "2      NO APLICA       0  \n",
       "\n",
       "[3 rows x 31 columns]"
      ]
     },
     "execution_count": 4,
     "metadata": {},
     "output_type": "execute_result"
    }
   ],
   "source": [
    "data.head(3)"
   ]
  },
  {
   "cell_type": "markdown",
   "metadata": {},
   "source": [
    "## Preparación del modelo"
   ]
  },
  {
   "cell_type": "code",
   "execution_count": 5,
   "metadata": {},
   "outputs": [
    {
     "name": "stdout",
     "output_type": "stream",
     "text": [
      "(1579, 31)\n",
      "['CEDULA_ANONIMIZADA', 'FECHA', 'CODIGO_EMPRESA', 'ID_GENERO', 'ID_ESTADO_CIVIL', 'FECHA_NACIMIENTO', 'EDAD', 'CODIGO_LOCALIDAD', 'TIPO_NOMINA', 'FECHA_INGRESO', 'FECHA_INICIO_CONTRATO', 'ID_CARGO', 'TIPO_CARGO', 'NIVEL_CARGO', 'CATEGORIA_CARGO', 'TIPO_AREA', 'ID_CENTRO_COSTO', 'SENAL_SINDICALIZADO', 'CLASE_EMPLEADO', 'CLASE_NOMINA', 'SUBSIDIO_TRANSPORTE', 'PORCENTAJE_RIESGO', 'SALARIO', 'COMPENSACION_VARIABLE', 'PORCENT_COMP_VARIABLE', 'TOTAL_SALARIO', 'UBICACION_ANONIMIZADA', 'FECHA FIN CONTRATO', 'CAUSA NOMBRE', 'TIPO DE RETIRO', 'RETIRO']\n"
     ]
    }
   ],
   "source": [
    "print(data.shape)\n",
    "print(list(data.columns))"
   ]
  },
  {
   "cell_type": "code",
   "execution_count": 6,
   "metadata": {},
   "outputs": [],
   "source": [
    "data_final = data[['CEDULA_ANONIMIZADA', 'CODIGO_EMPRESA', 'ID_GENERO', \n",
    "                   'ID_ESTADO_CIVIL', 'EDAD', 'CODIGO_LOCALIDAD', 'TIPO_NOMINA', \n",
    "                   'ID_CARGO', 'TIPO_CARGO', 'NIVEL_CARGO', 'ID_CENTRO_COSTO', \n",
    "                   'SENAL_SINDICALIZADO', 'CLASE_EMPLEADO', 'CLASE_NOMINA',\n",
    "                   'SUBSIDIO_TRANSPORTE',\n",
    "                   'COMPENSACION_VARIABLE', 'PORCENT_COMP_VARIABLE', 'TOTAL_SALARIO',\n",
    "                   'CAUSA NOMBRE', 'TIPO DE RETIRO', 'RETIRO']]"
   ]
  },
  {
   "cell_type": "code",
   "execution_count": 7,
   "metadata": {},
   "outputs": [
    {
     "data": {
      "text/html": [
       "<div>\n",
       "<style scoped>\n",
       "    .dataframe tbody tr th:only-of-type {\n",
       "        vertical-align: middle;\n",
       "    }\n",
       "\n",
       "    .dataframe tbody tr th {\n",
       "        vertical-align: top;\n",
       "    }\n",
       "\n",
       "    .dataframe thead th {\n",
       "        text-align: right;\n",
       "    }\n",
       "</style>\n",
       "<table border=\"1\" class=\"dataframe\">\n",
       "  <thead>\n",
       "    <tr style=\"text-align: right;\">\n",
       "      <th></th>\n",
       "      <th>CEDULA_ANONIMIZADA</th>\n",
       "      <th>CODIGO_EMPRESA</th>\n",
       "      <th>ID_GENERO</th>\n",
       "      <th>ID_ESTADO_CIVIL</th>\n",
       "      <th>EDAD</th>\n",
       "      <th>CODIGO_LOCALIDAD</th>\n",
       "      <th>TIPO_NOMINA</th>\n",
       "      <th>ID_CARGO</th>\n",
       "      <th>TIPO_CARGO</th>\n",
       "      <th>NIVEL_CARGO</th>\n",
       "      <th>...</th>\n",
       "      <th>SENAL_SINDICALIZADO</th>\n",
       "      <th>CLASE_EMPLEADO</th>\n",
       "      <th>CLASE_NOMINA</th>\n",
       "      <th>SUBSIDIO_TRANSPORTE</th>\n",
       "      <th>COMPENSACION_VARIABLE</th>\n",
       "      <th>PORCENT_COMP_VARIABLE</th>\n",
       "      <th>TOTAL_SALARIO</th>\n",
       "      <th>CAUSA NOMBRE</th>\n",
       "      <th>TIPO DE RETIRO</th>\n",
       "      <th>RETIRO</th>\n",
       "    </tr>\n",
       "  </thead>\n",
       "  <tbody>\n",
       "    <tr>\n",
       "      <th>0</th>\n",
       "      <td>50</td>\n",
       "      <td>21</td>\n",
       "      <td>F</td>\n",
       "      <td>SOLTERO</td>\n",
       "      <td>22</td>\n",
       "      <td>999999</td>\n",
       "      <td>NO DEFINIDO</td>\n",
       "      <td>999999</td>\n",
       "      <td>SOPORTE</td>\n",
       "      <td>7</td>\n",
       "      <td>...</td>\n",
       "      <td>N</td>\n",
       "      <td>NO DEFINIDO</td>\n",
       "      <td>0</td>\n",
       "      <td>N</td>\n",
       "      <td>0.0</td>\n",
       "      <td>0</td>\n",
       "      <td>737717.0</td>\n",
       "      <td>NO APLICA</td>\n",
       "      <td>NO APLICA</td>\n",
       "      <td>0</td>\n",
       "    </tr>\n",
       "    <tr>\n",
       "      <th>1</th>\n",
       "      <td>158</td>\n",
       "      <td>21</td>\n",
       "      <td>F</td>\n",
       "      <td>SOLTERO</td>\n",
       "      <td>23</td>\n",
       "      <td>999999</td>\n",
       "      <td>NO DEFINIDO</td>\n",
       "      <td>999999</td>\n",
       "      <td>SOPORTE</td>\n",
       "      <td>7</td>\n",
       "      <td>...</td>\n",
       "      <td>N</td>\n",
       "      <td>NO DEFINIDO</td>\n",
       "      <td>0</td>\n",
       "      <td>N</td>\n",
       "      <td>0.0</td>\n",
       "      <td>0</td>\n",
       "      <td>737717.0</td>\n",
       "      <td>NO APLICA</td>\n",
       "      <td>NO APLICA</td>\n",
       "      <td>0</td>\n",
       "    </tr>\n",
       "    <tr>\n",
       "      <th>2</th>\n",
       "      <td>215</td>\n",
       "      <td>21</td>\n",
       "      <td>M</td>\n",
       "      <td>SOLTERO</td>\n",
       "      <td>21</td>\n",
       "      <td>999999</td>\n",
       "      <td>NO DEFINIDO</td>\n",
       "      <td>999999</td>\n",
       "      <td>SOPORTE</td>\n",
       "      <td>7</td>\n",
       "      <td>...</td>\n",
       "      <td>N</td>\n",
       "      <td>NO DEFINIDO</td>\n",
       "      <td>0</td>\n",
       "      <td>N</td>\n",
       "      <td>0.0</td>\n",
       "      <td>0</td>\n",
       "      <td>737717.0</td>\n",
       "      <td>NO APLICA</td>\n",
       "      <td>NO APLICA</td>\n",
       "      <td>0</td>\n",
       "    </tr>\n",
       "    <tr>\n",
       "      <th>3</th>\n",
       "      <td>279</td>\n",
       "      <td>21</td>\n",
       "      <td>F</td>\n",
       "      <td>SOLTERO</td>\n",
       "      <td>25</td>\n",
       "      <td>999999</td>\n",
       "      <td>NO DEFINIDO</td>\n",
       "      <td>999999</td>\n",
       "      <td>SOPORTE</td>\n",
       "      <td>7</td>\n",
       "      <td>...</td>\n",
       "      <td>N</td>\n",
       "      <td>NO DEFINIDO</td>\n",
       "      <td>0</td>\n",
       "      <td>N</td>\n",
       "      <td>0.0</td>\n",
       "      <td>0</td>\n",
       "      <td>1475434.0</td>\n",
       "      <td>NO APLICA</td>\n",
       "      <td>NO APLICA</td>\n",
       "      <td>0</td>\n",
       "    </tr>\n",
       "    <tr>\n",
       "      <th>4</th>\n",
       "      <td>319</td>\n",
       "      <td>21</td>\n",
       "      <td>F</td>\n",
       "      <td>SOLTERO</td>\n",
       "      <td>26</td>\n",
       "      <td>999999</td>\n",
       "      <td>NO DEFINIDO</td>\n",
       "      <td>999999</td>\n",
       "      <td>SOPORTE</td>\n",
       "      <td>7</td>\n",
       "      <td>...</td>\n",
       "      <td>N</td>\n",
       "      <td>NO DEFINIDO</td>\n",
       "      <td>0</td>\n",
       "      <td>N</td>\n",
       "      <td>0.0</td>\n",
       "      <td>0</td>\n",
       "      <td>1475434.0</td>\n",
       "      <td>NO APLICA</td>\n",
       "      <td>NO APLICA</td>\n",
       "      <td>0</td>\n",
       "    </tr>\n",
       "  </tbody>\n",
       "</table>\n",
       "<p>5 rows × 21 columns</p>\n",
       "</div>"
      ],
      "text/plain": [
       "   CEDULA_ANONIMIZADA  CODIGO_EMPRESA ID_GENERO ID_ESTADO_CIVIL  EDAD  \\\n",
       "0                  50              21         F         SOLTERO    22   \n",
       "1                 158              21         F         SOLTERO    23   \n",
       "2                 215              21         M         SOLTERO    21   \n",
       "3                 279              21         F         SOLTERO    25   \n",
       "4                 319              21         F         SOLTERO    26   \n",
       "\n",
       "   CODIGO_LOCALIDAD  TIPO_NOMINA  ID_CARGO TIPO_CARGO  NIVEL_CARGO  ...  \\\n",
       "0            999999  NO DEFINIDO    999999    SOPORTE            7  ...   \n",
       "1            999999  NO DEFINIDO    999999    SOPORTE            7  ...   \n",
       "2            999999  NO DEFINIDO    999999    SOPORTE            7  ...   \n",
       "3            999999  NO DEFINIDO    999999    SOPORTE            7  ...   \n",
       "4            999999  NO DEFINIDO    999999    SOPORTE            7  ...   \n",
       "\n",
       "   SENAL_SINDICALIZADO CLASE_EMPLEADO CLASE_NOMINA  SUBSIDIO_TRANSPORTE  \\\n",
       "0                    N    NO DEFINIDO            0                    N   \n",
       "1                    N    NO DEFINIDO            0                    N   \n",
       "2                    N    NO DEFINIDO            0                    N   \n",
       "3                    N    NO DEFINIDO            0                    N   \n",
       "4                    N    NO DEFINIDO            0                    N   \n",
       "\n",
       "  COMPENSACION_VARIABLE  PORCENT_COMP_VARIABLE  TOTAL_SALARIO  CAUSA NOMBRE  \\\n",
       "0                   0.0                      0       737717.0     NO APLICA   \n",
       "1                   0.0                      0       737717.0     NO APLICA   \n",
       "2                   0.0                      0       737717.0     NO APLICA   \n",
       "3                   0.0                      0      1475434.0     NO APLICA   \n",
       "4                   0.0                      0      1475434.0     NO APLICA   \n",
       "\n",
       "  TIPO DE RETIRO RETIRO  \n",
       "0      NO APLICA      0  \n",
       "1      NO APLICA      0  \n",
       "2      NO APLICA      0  \n",
       "3      NO APLICA      0  \n",
       "4      NO APLICA      0  \n",
       "\n",
       "[5 rows x 21 columns]"
      ]
     },
     "execution_count": 7,
     "metadata": {},
     "output_type": "execute_result"
    }
   ],
   "source": [
    "data_final.head()"
   ]
  },
  {
   "cell_type": "code",
   "execution_count": 8,
   "metadata": {},
   "outputs": [],
   "source": [
    "data_final[\"COMPENSACION_VARIABLE\"] = pd.to_numeric(data_final[\"COMPENSACION_VARIABLE\"])\n",
    "data_final[\"TOTAL_SALARIO\"] = pd.to_numeric(data_final[\"TOTAL_SALARIO\"])"
   ]
  },
  {
   "cell_type": "markdown",
   "metadata": {},
   "source": [
    "### Factorización de datos"
   ]
  },
  {
   "cell_type": "markdown",
   "metadata": {},
   "source": [
    "Convertimos a valores numéricos los datos categóricos."
   ]
  },
  {
   "cell_type": "code",
   "execution_count": 9,
   "metadata": {},
   "outputs": [
    {
     "data": {
      "text/plain": [
       "M    1087\n",
       "F     492\n",
       "Name: ID_GENERO, dtype: int64"
      ]
     },
     "execution_count": 9,
     "metadata": {},
     "output_type": "execute_result"
    }
   ],
   "source": [
    "data_final['ID_GENERO'].value_counts()"
   ]
  },
  {
   "cell_type": "code",
   "execution_count": 10,
   "metadata": {},
   "outputs": [],
   "source": [
    "data_final.loc[data_final['ID_GENERO']== 'M', 'ID_GENERO'] = 0\n",
    "data_final.loc[data_final['ID_GENERO']== 'F', 'ID_GENERO'] = 1"
   ]
  },
  {
   "cell_type": "code",
   "execution_count": 11,
   "metadata": {},
   "outputs": [
    {
     "data": {
      "text/plain": [
       "CASADO         683\n",
       "SOLTERO        678\n",
       "UNION LIBRE    172\n",
       "DIVORCIADO      20\n",
       "NO DEFINIDO     18\n",
       "SEPARADO         8\n",
       "Name: ID_ESTADO_CIVIL, dtype: int64"
      ]
     },
     "execution_count": 11,
     "metadata": {},
     "output_type": "execute_result"
    }
   ],
   "source": [
    "data_final['ID_ESTADO_CIVIL'].value_counts()"
   ]
  },
  {
   "cell_type": "code",
   "execution_count": 12,
   "metadata": {},
   "outputs": [],
   "source": [
    "data_final.loc[data_final['ID_ESTADO_CIVIL']== 'CASADO', 'ID_ESTADO_CIVIL'] = 0\n",
    "data_final.loc[data_final['ID_ESTADO_CIVIL']== 'SOLTERO', 'ID_ESTADO_CIVIL'] = 1\n",
    "data_final.loc[data_final['ID_ESTADO_CIVIL']== 'UNION LIBRE', 'ID_ESTADO_CIVIL'] = 2\n",
    "data_final.loc[data_final['ID_ESTADO_CIVIL']== 'DIVORCIADO', 'ID_ESTADO_CIVIL'] = 3\n",
    "data_final.loc[data_final['ID_ESTADO_CIVIL']== 'NO DEFINIDO', 'ID_ESTADO_CIVIL'] = 4\n",
    "data_final.loc[data_final['ID_ESTADO_CIVIL']== 'SEPARADO', 'ID_ESTADO_CIVIL'] = 5"
   ]
  },
  {
   "cell_type": "code",
   "execution_count": 13,
   "metadata": {},
   "outputs": [
    {
     "data": {
      "text/plain": [
       "LEY 50 NOMINAL TERMINO INDEFIN    1097\n",
       "LEY 50 NOMINAL TERMINO FIJO        303\n",
       "LEY 50 INTEGRAL                    147\n",
       "NO DEFINIDO                         28\n",
       "LEY TRADICIONAL NOMINAL              4\n",
       "Name: TIPO_NOMINA, dtype: int64"
      ]
     },
     "execution_count": 13,
     "metadata": {},
     "output_type": "execute_result"
    }
   ],
   "source": [
    "data_final['TIPO_NOMINA'].value_counts()"
   ]
  },
  {
   "cell_type": "code",
   "execution_count": 14,
   "metadata": {},
   "outputs": [],
   "source": [
    "data_final.loc[data_final['TIPO_NOMINA']== 'LEY 50 NOMINAL TERMINO INDEFIN', 'TIPO_NOMINA'] = 0\n",
    "data_final.loc[data_final['TIPO_NOMINA']== 'LEY 50 NOMINAL TERMINO FIJO', 'TIPO_NOMINA'] = 1\n",
    "data_final.loc[data_final['TIPO_NOMINA']== 'LEY 50 INTEGRAL', 'TIPO_NOMINA'] = 2\n",
    "data_final.loc[data_final['TIPO_NOMINA']== 'NO DEFINIDO', 'TIPO_NOMINA'] = 3\n",
    "data_final.loc[data_final['TIPO_NOMINA']== 'NO LEY TRADICIONAL NOMINAL', 'TIPO_NOMINA'] = 4\n",
    "data_final.loc[data_final['TIPO_NOMINA']== 'LEY TRADICIONAL NOMINAL', 'TIPO_NOMINA'] = 5"
   ]
  },
  {
   "cell_type": "code",
   "execution_count": 15,
   "metadata": {},
   "outputs": [
    {
     "data": {
      "text/plain": [
       "DIRECCION                           622\n",
       "ADMINISTRATIVO                      442\n",
       "SOPORTE                             178\n",
       "ADMINISTRATIVO PLANTA               174\n",
       "COMERCIAL                            74\n",
       "CLAVE                                69\n",
       "GERENCIAL                            17\n",
       "BECARIOS / APRENDICES / PASANTES      2\n",
       "PLANTA                                1\n",
       "Name: TIPO_CARGO, dtype: int64"
      ]
     },
     "execution_count": 15,
     "metadata": {},
     "output_type": "execute_result"
    }
   ],
   "source": [
    "data_final['TIPO_CARGO'].value_counts()"
   ]
  },
  {
   "cell_type": "code",
   "execution_count": 16,
   "metadata": {},
   "outputs": [],
   "source": [
    "data_final.loc[data_final['TIPO_CARGO']== 'DIRECCION', 'TIPO_CARGO'] = 0\n",
    "data_final.loc[data_final['TIPO_CARGO']== 'ADMINISTRATIVO', 'TIPO_CARGO'] = 1\n",
    "data_final.loc[data_final['TIPO_CARGO']== 'SOPORTE', 'TIPO_CARGO'] = 2\n",
    "data_final.loc[data_final['TIPO_CARGO']== 'ADMINISTRATIVO PLANTA', 'TIPO_CARGO'] = 3\n",
    "data_final.loc[data_final['TIPO_CARGO']== 'COMERCIAL', 'TIPO_CARGO'] = 4\n",
    "data_final.loc[data_final['TIPO_CARGO']== 'CLAVE', 'TIPO_CARGO'] = 5\n",
    "data_final.loc[data_final['TIPO_CARGO']== 'GERENCIAL', 'TIPO_CARGO'] = 6\n",
    "data_final.loc[data_final['TIPO_CARGO']== 'BECARIOS / APRENDICES / PASANTES', 'TIPO_CARGO'] = 7\n",
    "data_final.loc[data_final['TIPO_CARGO']== 'PLANTA', 'TIPO_CARGO'] = 8"
   ]
  },
  {
   "cell_type": "code",
   "execution_count": 17,
   "metadata": {},
   "outputs": [
    {
     "data": {
      "text/plain": [
       "S    1552\n",
       "N      27\n",
       "Name: SUBSIDIO_TRANSPORTE, dtype: int64"
      ]
     },
     "execution_count": 17,
     "metadata": {},
     "output_type": "execute_result"
    }
   ],
   "source": [
    "data_final['SUBSIDIO_TRANSPORTE'].value_counts()"
   ]
  },
  {
   "cell_type": "code",
   "execution_count": 18,
   "metadata": {},
   "outputs": [],
   "source": [
    "data_final.loc[data_final['SUBSIDIO_TRANSPORTE']== 'S', 'SUBSIDIO_TRANSPORTE'] = 1\n",
    "data_final.loc[data_final['SUBSIDIO_TRANSPORTE']== 'N', 'SUBSIDIO_TRANSPORTE'] = 0"
   ]
  },
  {
   "cell_type": "code",
   "execution_count": 19,
   "metadata": {},
   "outputs": [
    {
     "data": {
      "text/plain": [
       "NO APLICA                        1203\n",
       "RETIRO VOLUNTARIO                 169\n",
       "MUTUO ACUERDO                      88\n",
       "DESPIDO SIN JUSTA CAUSA            54\n",
       "VENCIMIENTO DE CONTRATO            31\n",
       "RENUNCIA VOLUNTARIA                11\n",
       "DESPIDO CON JUSTA CAUSA            10\n",
       "TERMINACION UNILATERAL              8\n",
       "TERMINACION PERIODO DE PRUEBA       4\n",
       "PERIODO DE PRUEBA                   1\n",
       "Name: CAUSA NOMBRE, dtype: int64"
      ]
     },
     "execution_count": 19,
     "metadata": {},
     "output_type": "execute_result"
    }
   ],
   "source": [
    "data_final['CAUSA NOMBRE'].value_counts()"
   ]
  },
  {
   "cell_type": "code",
   "execution_count": 20,
   "metadata": {},
   "outputs": [],
   "source": [
    "data_final.loc[data_final['CAUSA NOMBRE']== 'NO APLICA', 'CAUSA NOMBRE'] = 0\n",
    "data_final.loc[data_final['CAUSA NOMBRE']== 'RETIRO VOLUNTARIO', 'CAUSA NOMBRE'] = 1\n",
    "data_final.loc[data_final['CAUSA NOMBRE']== 'MUTUO ACUERDO', 'CAUSA NOMBRE'] = 2\n",
    "data_final.loc[data_final['CAUSA NOMBRE']== 'DESPIDO SIN JUSTA CAUSA', 'CAUSA NOMBRE'] = 3\n",
    "data_final.loc[data_final['CAUSA NOMBRE']== 'VENCIMIENTO DE CONTRATO', 'CAUSA NOMBRE'] = 4\n",
    "data_final.loc[data_final['CAUSA NOMBRE']== 'RENUNCIA VOLUNTARIA', 'CAUSA NOMBRE'] = 5\n",
    "data_final.loc[data_final['CAUSA NOMBRE']== 'DESPIDO CON JUSTA CAUSA', 'CAUSA NOMBRE'] = 6\n",
    "data_final.loc[data_final['CAUSA NOMBRE']== 'TERMINACION UNILATERAL'] = 7\n",
    "data_final.loc[data_final['CAUSA NOMBRE']== 'TERMINACION PERIODO DE PRUEBA', 'CAUSA NOMBRE'] = 8\n",
    "data_final.loc[data_final['CAUSA NOMBRE']== 'PERIODO DE PRUEBA', 'CAUSA NOMBRE'] = 9"
   ]
  },
  {
   "cell_type": "code",
   "execution_count": 21,
   "metadata": {},
   "outputs": [
    {
     "data": {
      "text/plain": [
       "NO APLICA     1228\n",
       "NO DESEADO     183\n",
       "DESEADO        160\n",
       "7                8\n",
       "Name: TIPO DE RETIRO, dtype: int64"
      ]
     },
     "execution_count": 21,
     "metadata": {},
     "output_type": "execute_result"
    }
   ],
   "source": [
    "data_final['TIPO DE RETIRO'].value_counts()"
   ]
  },
  {
   "cell_type": "code",
   "execution_count": 22,
   "metadata": {},
   "outputs": [],
   "source": [
    "data_final.loc[data_final['TIPO DE RETIRO']== 'NO APLICA', 'TIPO DE RETIRO'] = 0\n",
    "data_final.loc[data_final['TIPO DE RETIRO']== 'NO DESEADO', 'TIPO DE RETIRO'] = 1\n",
    "data_final.loc[data_final['TIPO DE RETIRO']== 'DESEADO', 'TIPO DE RETIRO'] = 2"
   ]
  },
  {
   "cell_type": "code",
   "execution_count": 23,
   "metadata": {},
   "outputs": [
    {
     "data": {
      "text/plain": [
       "N    1462\n",
       "S     108\n",
       "7       8\n",
       "C       1\n",
       "Name: SENAL_SINDICALIZADO, dtype: int64"
      ]
     },
     "execution_count": 23,
     "metadata": {},
     "output_type": "execute_result"
    }
   ],
   "source": [
    "data_final['SENAL_SINDICALIZADO'].value_counts()\n",
    "# 'SENAL_SINDICALIZADO', 'CLASE_EMPLEADO'"
   ]
  },
  {
   "cell_type": "code",
   "execution_count": 24,
   "metadata": {},
   "outputs": [],
   "source": [
    "data_final.loc[data_final['SENAL_SINDICALIZADO']== 'N', 'SENAL_SINDICALIZADO'] = 0\n",
    "data_final.loc[data_final['SENAL_SINDICALIZADO']== 'S', 'SENAL_SINDICALIZADO'] = 1\n",
    "data_final.loc[data_final['SENAL_SINDICALIZADO']== '7', 'SENAL_SINDICALIZADO'] = 2\n",
    "data_final.loc[data_final['SENAL_SINDICALIZADO']== 'C', 'SENAL_SINDICALIZADO'] = 2"
   ]
  },
  {
   "cell_type": "code",
   "execution_count": 25,
   "metadata": {},
   "outputs": [
    {
     "data": {
      "text/plain": [
       "NO DEFINIDO               1163\n",
       "DIRECTOS DE PRODUCCION     170\n",
       "ADMINISTRACION CENTRAL     150\n",
       "DIRECTOS DE VENTAS          88\n",
       "7                            8\n",
       "Name: CLASE_EMPLEADO, dtype: int64"
      ]
     },
     "execution_count": 25,
     "metadata": {},
     "output_type": "execute_result"
    }
   ],
   "source": [
    "data_final['CLASE_EMPLEADO'].value_counts()"
   ]
  },
  {
   "cell_type": "code",
   "execution_count": 26,
   "metadata": {},
   "outputs": [],
   "source": [
    "data_final.loc[data_final['CLASE_EMPLEADO']== 'NO DEFINIDO', 'CLASE_EMPLEADO'] = 0\n",
    "data_final.loc[data_final['CLASE_EMPLEADO']== 'DIRECTOS DE PRODUCCION', 'CLASE_EMPLEADO'] = 1\n",
    "data_final.loc[data_final['CLASE_EMPLEADO']== 'ADMINISTRACION CENTRAL', 'CLASE_EMPLEADO'] = 2\n",
    "data_final.loc[data_final['CLASE_EMPLEADO']== 'DIRECTOS DE VENTAS', 'CLASE_EMPLEADO'] = 2"
   ]
  },
  {
   "cell_type": "markdown",
   "metadata": {},
   "source": [
    "## División de datos en entrenamiento y pruebas"
   ]
  },
  {
   "cell_type": "code",
   "execution_count": 27,
   "metadata": {},
   "outputs": [
    {
     "name": "stdout",
     "output_type": "stream",
     "text": [
      "type(y_train): <class 'pandas.core.series.Series'>\n",
      "Número de registros en el dataset X_train:  (1105, 20)\n",
      "Número de registros en el dataset y_train:  (1105,)\n",
      "Número de registros en el dataset X_test:  (474, 20)\n",
      "Número de registros en el dataset y_test:  (474,)\n"
     ]
    }
   ],
   "source": [
    "from sklearn.model_selection import train_test_split \n",
    "\n",
    "y = data_final.RETIRO\n",
    "X = data_final.drop('RETIRO', axis=1)\n",
    "\n",
    "# Division de datos en 70:30  \n",
    "X_train, X_test, y_train, y_test = train_test_split(X, y, test_size = 0.3, random_state = 0) \n",
    "print(\"type(y_train):\", type(y_train))\n",
    "print(\"Número de registros en el dataset X_train: \", X_train.shape) \n",
    "print(\"Número de registros en el dataset y_train: \", y_train.shape) \n",
    "print(\"Número de registros en el dataset X_test: \", X_test.shape) \n",
    "print(\"Número de registros en el dataset y_test: \", y_test.shape)"
   ]
  },
  {
   "cell_type": "markdown",
   "metadata": {},
   "source": [
    "## Sobre - Muestreo y balanceo de datos"
   ]
  },
  {
   "cell_type": "code",
   "execution_count": 28,
   "metadata": {},
   "outputs": [
    {
     "name": "stdout",
     "output_type": "stream",
     "text": [
      "Antes del sobre-muestreo, contador etiqueta 'Retiro': 368\n",
      "Antes del sobre-muestreo, contador etiqueta 'No Retiro': 1203 \n",
      "\n",
      "Despues del sobre-muestreo, la forma de x_train es: (2520, 20)\n",
      "Despues del sobre-muestreo, la forma de y_train es: (2520,) \n",
      "\n",
      "Despues del sobre-muestreo, contador etiqueta 'Retiro': 840\n",
      "Despues del sobre-muestreo, contador etiqueta 'No Retiro': 840\n"
     ]
    }
   ],
   "source": [
    "print(\"Antes del sobre-muestreo, contador etiqueta 'Retiro': {}\".format(sum(data_final.RETIRO == 1))) \n",
    "print(\"Antes del sobre-muestreo, contador etiqueta 'No Retiro': {} \\n\".format(sum(data_final.RETIRO  == 0)))\n",
    "\n",
    "from imblearn.over_sampling import SMOTE \n",
    "sm = SMOTE(random_state = 2) \n",
    "X_train_res, y_train_res = sm.fit_sample(X_train, y_train.ravel()) \n",
    "\n",
    "print('Despues del sobre-muestreo, la forma de x_train es: {}'.format(X_train_res.shape)) \n",
    "print('Despues del sobre-muestreo, la forma de y_train es: {} \\n'.format(y_train_res.shape)) \n",
    "print(\"Despues del sobre-muestreo, contador etiqueta 'Retiro': {}\".format(sum(y_train_res == 1))) \n",
    "print(\"Despues del sobre-muestreo, contador etiqueta 'No Retiro': {}\".format(sum(y_train_res == 0)))"
   ]
  },
  {
   "cell_type": "code",
   "execution_count": 29,
   "metadata": {},
   "outputs": [],
   "source": [
    "columnas_finales = X_train_res.columns\n",
    "os_data_X = pd.DataFrame(data = X_train_res, columns = columnas_finales)\n",
    "os_data_y = pd.DataFrame(data = y_train_res, columns=['RETIRO'])\n",
    "X = os_data_X[columnas_finales]\n",
    "y = os_data_y['RETIRO']"
   ]
  },
  {
   "cell_type": "markdown",
   "metadata": {},
   "source": [
    "## Modelado Arbol de desición"
   ]
  },
  {
   "cell_type": "code",
   "execution_count": 34,
   "metadata": {},
   "outputs": [],
   "source": [
    "from sklearn import tree\n",
    "from sklearn import metrics\n",
    "\n",
    "clf = tree.DecisionTreeClassifier()\n",
    "clf = clf.fit(X, y)"
   ]
  },
  {
   "cell_type": "code",
   "execution_count": 35,
   "metadata": {},
   "outputs": [
    {
     "data": {
      "text/plain": [
       "[Text(200.88000000000002, 181.2, 'X[12] <= 4.5\\ngini = 0.667\\nsamples = 2520\\nvalue = [840, 840, 840]'),\n",
       " Text(133.92000000000002, 108.72, 'X[18] <= 0.5\\ngini = 0.5\\nsamples = 1680\\nvalue = [840, 840, 0]'),\n",
       " Text(66.96000000000001, 36.23999999999998, 'gini = 0.0\\nsamples = 840\\nvalue = [840, 0, 0]'),\n",
       " Text(200.88000000000002, 36.23999999999998, 'gini = 0.0\\nsamples = 840\\nvalue = [0, 840, 0]'),\n",
       " Text(267.84000000000003, 108.72, 'gini = 0.0\\nsamples = 840\\nvalue = [0, 0, 840]')]"
      ]
     },
     "execution_count": 35,
     "metadata": {},
     "output_type": "execute_result"
    },
    {
     "data": {
      "image/png": "[encoded data removed]",
      "text/plain": [
       "<Figure size 432x288 with 1 Axes>"
      ]
     },
     "metadata": {
      "needs_background": "light"
     },
     "output_type": "display_data"
    }
   ],
   "source": [
    "tree.plot_tree(clf)"
   ]
  }
 ],
 "metadata": {
  "kernelspec": {
   "display_name": "Python 3",
   "language": "python",
   "name": "python3"
  },
  "language_info": {
   "codemirror_mode": {
    "name": "ipython",
    "version": 3
   },
   "file_extension": ".py",
   "mimetype": "text/x-python",
   "name": "python",
   "nbconvert_exporter": "python",
   "pygments_lexer": "ipython3",
   "version": "3.7.4"
  }
 },
 "nbformat": 4,
 "nbformat_minor": 2
}
